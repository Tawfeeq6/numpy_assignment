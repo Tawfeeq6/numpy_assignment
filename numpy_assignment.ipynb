{
 "cells": [
  {
   "cell_type": "code",
   "execution_count": 1,
   "id": "c4beb712-4e6a-4809-9483-58fcb3f9aa5f",
   "metadata": {},
   "outputs": [
    {
     "data": {
      "text/plain": [
       "'Python library is a collection of pre-written code modules that provide a set of functionalities to accomplish specific tasks. These modules contain functions, classes, and methods that programmers can use to perform various operations without having to implement them from scratch\\nWe use Python libraries for several reasons:\\n1.efficiency\\n2.functionality\\n3.standardisation etc'"
      ]
     },
     "execution_count": 1,
     "metadata": {},
     "output_type": "execute_result"
    }
   ],
   "source": [
    "#question1\n",
    "'''Python library is a collection of pre-written code modules that provide a set of functionalities to accomplish specific tasks. These modules contain functions, classes, and methods that programmers can use to perform various operations without having to implement them from scratch\n",
    "We use Python libraries for several reasons:\n",
    "1.efficiency\n",
    "2.functionality\n",
    "3.standardisation etc'''"
   ]
  },
  {
   "cell_type": "code",
   "execution_count": 2,
   "id": "ebd8badb-0fc7-4ec7-ac86-3267fae10fce",
   "metadata": {},
   "outputs": [
    {
     "data": {
      "text/plain": [
       "'numpy array and python list are both used to store collection of data but they have some key diffrences:\\n1.data types\\n2.performance\\n3.functionality'"
      ]
     },
     "execution_count": 2,
     "metadata": {},
     "output_type": "execute_result"
    }
   ],
   "source": [
    "#question2\n",
    "'''numpy array and python list are both used to store collection of data but they have some key diffrences:\n",
    "1.data types\n",
    "2.performance\n",
    "3.functionality'''"
   ]
  },
  {
   "cell_type": "code",
   "execution_count": 3,
   "id": "ad536393-c101-425d-9742-3b06c59ca26c",
   "metadata": {},
   "outputs": [
    {
     "name": "stdout",
     "output_type": "stream",
     "text": [
      "shape: (3, 4)\n",
      "dimension: 2\n",
      "size: 12\n"
     ]
    }
   ],
   "source": [
    "#question3\n",
    "import numpy as np\n",
    "arr=np.array([[1,2,3,4],[5,6,7,8],[9,10,11,12]])\n",
    "shape=arr.shape\n",
    "dimension=arr.ndim\n",
    "size=arr.size\n",
    "print(\"shape:\",shape)\n",
    "print(\"dimension:\",dimension)\n",
    "print(\"size:\",size)"
   ]
  },
  {
   "cell_type": "code",
   "execution_count": 4,
   "id": "670be14a-0cca-4056-987a-f77bc5221e0f",
   "metadata": {},
   "outputs": [
    {
     "name": "stdout",
     "output_type": "stream",
     "text": [
      "first row: [1 2 3 4]\n"
     ]
    }
   ],
   "source": [
    "#question4\n",
    "arr=np.array([[1,2,3,4],[5,6,7,8],[9,10,11,12]])\n",
    "first_row= arr[0]\n",
    "print(\"first row:\",first_row)\n"
   ]
  },
  {
   "cell_type": "code",
   "execution_count": 5,
   "id": "972b5360-8f32-4772-86cb-566a6f97e970",
   "metadata": {},
   "outputs": [
    {
     "name": "stdout",
     "output_type": "stream",
     "text": [
      "Element at the third row and fourth column: 12\n"
     ]
    }
   ],
   "source": [
    "#question5\n",
    "arr=np.array([[1,2,3,4],[5,6,7,8],[9,10,11,12]])\n",
    "element= arr[2,3]\n",
    "print(\"Element at the third row and fourth column:\", element)\n",
    "\n",
    "\n"
   ]
  },
  {
   "cell_type": "code",
   "execution_count": 6,
   "id": "d2404736-cc25-4e40-a3fe-dec2eaeb62a6",
   "metadata": {},
   "outputs": [
    {
     "name": "stdout",
     "output_type": "stream",
     "text": [
      "All odd-indexed elements:\n",
      "[[ 2  4]\n",
      " [ 6  8]\n",
      " [10 12]]\n"
     ]
    }
   ],
   "source": [
    "#question6\n",
    "arr=np.array([[1,2,3,4],[5,6,7,8],[9,10,11,12]])\n",
    "odd_elements = arr[:, 1::2]\n",
    "\n",
    "print(\"All odd-indexed elements:\")\n",
    "print(odd_elements)"
   ]
  },
  {
   "cell_type": "code",
   "execution_count": 7,
   "id": "c68705c4-7f54-4fa8-822e-a30fa500c601",
   "metadata": {},
   "outputs": [
    {
     "data": {
      "text/plain": [
       "array([[0.77593174, 0.65352304, 0.53701687],\n",
       "       [0.17417318, 0.18383401, 0.7104364 ],\n",
       "       [0.98304049, 0.1267292 , 0.52131934]])"
      ]
     },
     "execution_count": 7,
     "metadata": {},
     "output_type": "execute_result"
    }
   ],
   "source": [
    "#question7\n",
    "np.random.rand(3,3)"
   ]
  },
  {
   "cell_type": "code",
   "execution_count": 8,
   "id": "c621b0d8-7f5f-4a6d-b538-3d6425742851",
   "metadata": {},
   "outputs": [
    {
     "data": {
      "text/plain": [
       "'This function generates random numbers from a standard normal distribution (mean = 0, standard deviation = 1).'"
      ]
     },
     "execution_count": 8,
     "metadata": {},
     "output_type": "execute_result"
    }
   ],
   "source": [
    "#question8\n",
    "np.random.rand()\n",
    "'''This function generates random numbers from a uniform distribution over the half-open interval [0, 1).'''\n",
    "\n",
    "np.random.randn()\n",
    "'''This function generates random numbers from a standard normal distribution (mean = 0, standard deviation = 1).'''"
   ]
  },
  {
   "cell_type": "code",
   "execution_count": 9,
   "id": "ccd942d4-c2d8-4c4f-a9e5-86197f3b3d2b",
   "metadata": {},
   "outputs": [
    {
     "data": {
      "text/plain": [
       "array([[[ 1,  2,  3,  4]],\n",
       "\n",
       "       [[ 5,  6,  7,  8]],\n",
       "\n",
       "       [[ 9, 10, 11, 12]]])"
      ]
     },
     "execution_count": 9,
     "metadata": {},
     "output_type": "execute_result"
    }
   ],
   "source": [
    "#Question9\n",
    "arr=np.array([[1,2,3,4],[5,6,7,8],[9,10,11,12]])\n",
    "np.expand_dims(arr,axis=1)"
   ]
  },
  {
   "cell_type": "code",
   "execution_count": 10,
   "id": "914a4799-f9c1-4e3d-9e38-39eb05893f0f",
   "metadata": {},
   "outputs": [
    {
     "data": {
      "text/plain": [
       "array([[ 1,  5,  9],\n",
       "       [ 2,  6, 10],\n",
       "       [ 3,  7, 11],\n",
       "       [ 4,  8, 12]])"
      ]
     },
     "execution_count": 10,
     "metadata": {},
     "output_type": "execute_result"
    }
   ],
   "source": [
    "#question10\n",
    "arr=np.array([[1,2,3,4],[5,6,7,8],[9,10,11,12]])\n",
    "arr.T"
   ]
  },
  {
   "cell_type": "code",
   "execution_count": 11,
   "id": "f71569bb-fbb7-4d18-a167-3132a1aa776f",
   "metadata": {},
   "outputs": [
    {
     "name": "stdout",
     "output_type": "stream",
     "text": [
      "indexwise_multiplication: [[  1   4   9  16]\n",
      " [ 25  36  49  64]\n",
      " [ 81 100 121 144]]\n",
      "matrix_multiplication: [[ 30  70 110]\n",
      " [ 70 174 278]\n",
      " [110 278 446]]\n",
      "addition [[ 2  4  6  8]\n",
      " [10 12 14 16]\n",
      " [18 20 22 24]]\n",
      "subtraction: [[0 0 0 0]\n",
      " [0 0 0 0]\n",
      " [0 0 0 0]]\n",
      "division: [[1. 1. 1. 1.]\n",
      " [1. 1. 1. 1.]\n",
      " [1. 1. 1. 1.]]\n"
     ]
    }
   ],
   "source": [
    "#question11\n",
    "A=np.array([[1,2,3,4],[5,6,7,8],[9,10,11,12]])\n",
    "B=np.array([[1,2,3,4],[5,6,7,8],[9,10,11,12]])\n",
    "\n",
    "indexwise_multiplication=A*B\n",
    "\n",
    "matrix_multiplication=np.dot(A, B.T) \n",
    "\n",
    "addition=A+B\n",
    "\n",
    "subtraction=B-A\n",
    "\n",
    "division=B/A\n",
    "print(\"indexwise_multiplication:\",indexwise_multiplication)\n",
    "print(\"matrix_multiplication:\",matrix_multiplication)\n",
    "print(\"addition\",addition)\n",
    "print(\"subtraction:\",subtraction)\n",
    "print(\"division:\",division)"
   ]
  },
  {
   "cell_type": "code",
   "execution_count": 12,
   "id": "0fbac06a-8723-49e0-a140-7df72784c071",
   "metadata": {},
   "outputs": [
    {
     "name": "stdout",
     "output_type": "stream",
     "text": [
      "Original array:\n",
      "[[ 1  2  3  4]\n",
      " [ 5  6  7  8]\n",
      " [ 9 10 11 12]]\n",
      "\n",
      "Array with byte order swapped:\n",
      "[[ 72057594037927936 144115188075855872 216172782113783808\n",
      "  288230376151711744]\n",
      " [360287970189639680 432345564227567616 504403158265495552\n",
      "  576460752303423488]\n",
      " [648518346341351424 720575940379279360 792633534417207296\n",
      "  864691128455135232]]\n"
     ]
    }
   ],
   "source": [
    "#question12\n",
    "arr=np.array([[1,2,3,4],[5,6,7,8],[9,10,11,12]])\n",
    "arr_byteswapped = arr.byteswap()\n",
    "\n",
    "print(\"Original array:\")\n",
    "print(arr)\n",
    "print(\"\\nArray with byte order swapped:\")\n",
    "print(arr_byteswapped)"
   ]
  },
  {
   "cell_type": "code",
   "execution_count": 13,
   "id": "7b64ce0d-06de-469b-8640-366be1b022c8",
   "metadata": {},
   "outputs": [
    {
     "data": {
      "text/plain": [
       "'The np.linalg.inv function in Numpy is used to compute the inverse of a square matrix. The significance of this function lies in its applications in linear algebra, particularly in solving systems of linear equations and in various optimization and estimation problems.'"
      ]
     },
     "execution_count": 13,
     "metadata": {},
     "output_type": "execute_result"
    }
   ],
   "source": [
    "#question13\n",
    "'''The np.linalg.inv function in Numpy is used to compute the inverse of a square matrix. The significance of this function lies in its applications in linear algebra, particularly in solving systems of linear equations and in various optimization and estimation problems.'''"
   ]
  },
  {
   "cell_type": "code",
   "execution_count": 14,
   "id": "46660cea-f678-4f78-93c6-9bf637c39815",
   "metadata": {},
   "outputs": [
    {
     "data": {
      "text/plain": [
       "array([[ 1,  2,  3,  4],\n",
       "       [ 5,  6,  7,  8],\n",
       "       [ 9, 10, 11, 12]])"
      ]
     },
     "execution_count": 14,
     "metadata": {},
     "output_type": "execute_result"
    }
   ],
   "source": [
    "#question14\n",
    "'''The np.reshape function in Numpy is used to change the shape of an array without changing its data. It allows you to specify the new shape of the array while preserving the total number of elements.'''\n",
    "arr=np.array([[1,2,3,4],[5,6,7,8],[9,10,11,12]])\n",
    "arr"
   ]
  },
  {
   "cell_type": "code",
   "execution_count": 16,
   "id": "be8aa4c6-58b0-4e63-8617-b71b4408c529",
   "metadata": {},
   "outputs": [
    {
     "data": {
      "text/plain": [
       "array([[ 1,  2,  3],\n",
       "       [ 4,  5,  6],\n",
       "       [ 7,  8,  9],\n",
       "       [10, 11, 12]])"
      ]
     },
     "execution_count": 16,
     "metadata": {},
     "output_type": "execute_result"
    }
   ],
   "source": [
    "#question14 example\n",
    "arr.reshape(4,3)"
   ]
  },
  {
   "cell_type": "code",
   "execution_count": null,
   "id": "4831cbb0-6e5c-433a-a13f-ab708f62040b",
   "metadata": {},
   "outputs": [],
   "source": [
    "#question15\n",
    "\n",
    "'''Broadcasting in NumPy is a powerful mechanism that allows arrays with different shapes to be combined in arithmetic operations. It enables efficient computation without the need for explicit loop iteration or duplication of data.'''"
   ]
  }
 ],
 "metadata": {
  "kernelspec": {
   "display_name": "Python 3 (ipykernel)",
   "language": "python",
   "name": "python3"
  },
  "language_info": {
   "codemirror_mode": {
    "name": "ipython",
    "version": 3
   },
   "file_extension": ".py",
   "mimetype": "text/x-python",
   "name": "python",
   "nbconvert_exporter": "python",
   "pygments_lexer": "ipython3",
   "version": "3.10.8"
  }
 },
 "nbformat": 4,
 "nbformat_minor": 5
}
